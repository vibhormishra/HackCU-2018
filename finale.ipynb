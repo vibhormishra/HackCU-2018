{
 "cells": [
  {
   "cell_type": "code",
   "execution_count": 73,
   "metadata": {},
   "outputs": [],
   "source": [
    "import json\n",
    "import csv, sys\n",
    "import urllib.request\n",
    "\n",
    "maxInt = sys.maxsize\n",
    "decrement = True\n",
    "\n",
    "while decrement:\n",
    "    # decrease the maxInt value by factor 10 \n",
    "    # as long as the OverflowError occurs.\n",
    "\n",
    "    decrement = False\n",
    "    try:\n",
    "        csv.field_size_limit(maxInt)\n",
    "    except OverflowError:\n",
    "        maxInt = int(maxInt/10)\n",
    "        decrement = True\n",
    "\n",
    "\n",
    "file = open('binaryValues.csv', 'r')\n",
    "reader = csv.reader(file)\n",
    "data = []\n",
    "for row in reader:\n",
    "    data.append(row)\n",
    "\n",
    "file.close()"
   ]
  },
  {
   "cell_type": "code",
   "execution_count": 74,
   "metadata": {},
   "outputs": [],
   "source": [
    "from collections import defaultdict\n",
    "\n",
    "def decode_binary_string(s):\n",
    "    return ''.join(chr(int(s[i*8:i*8+8],2)) for i in range(len(s)//8))"
   ]
  },
  {
   "cell_type": "code",
   "execution_count": 75,
   "metadata": {},
   "outputs": [],
   "source": [
    "decoded = decode_binary_string(data[1][0])"
   ]
  },
  {
   "cell_type": "code",
   "execution_count": 76,
   "metadata": {},
   "outputs": [],
   "source": [
    "def getAssocVal(arr,jsonData):\n",
    "    idx = 0\n",
    "    val = jsonData.get(arr[idx])\n",
    "    l = len(arr)\n",
    "    while l > idx + 1:\n",
    "        if arr[idx + 1].isnumeric():\n",
    "            if len(val) >= int(arr[idx + 1]):\n",
    "                val = val[int(arr[idx + 1])].get(arr[idx + 2])\n",
    "            else:\n",
    "                val = 0\n",
    "            idx += 2\n",
    "        else:\n",
    "            val = val.get(arr[idx + 1])\n",
    "            idx += 1\n",
    "    return val"
   ]
  },
  {
   "cell_type": "code",
   "execution_count": 77,
   "metadata": {},
   "outputs": [],
   "source": [
    "urlsToArr = defaultdict(list) \n",
    "urlsToJson = dict()"
   ]
  },
  {
   "cell_type": "code",
   "execution_count": 78,
   "metadata": {
    "collapsed": true
   },
   "outputs": [],
   "source": [
    "for s in decoded.split(\"https\\x9e//\")[1:]:\n",
    "    url = s.split(\",\")[0]\n",
    "    tempArr = s.split(\",\")[1]\n",
    "    if urlsToArr.get(url,None) is None:\n",
    "        urlsToArr[url] = []\n",
    "    urlsToArr.get(url).append(tempArr)"
   ]
  },
  {
   "cell_type": "code",
   "execution_count": 85,
   "metadata": {},
   "outputs": [
    {
     "data": {
      "text/plain": [
       "['data.cityofnewyork.us/api/views/kku6-nxdu',\n",
       " 'data.kingcounty.gov/api/views/b27z-cdmk',\n",
       " 'data.montgomerycountymd.gov/api/views/icn6-v9z3',\n",
       " 'data.iowa.gov/api/views/s3p7-wy6w',\n",
       " 'data.maryland.gov/api/views/f53i-bwcd',\n",
       " 'data.baltimorecity.gov/api/views/xviu-ezkt',\n",
       " 'data.ct.gov/api/views/kbxi-4ia7',\n",
       " 'data.cdc.gov/api/views/hn4x-zwk7',\n",
       " 'data.cdc.gov/api/views/mr8w-325u',\n",
       " 'data.cityofnewyork.us/api/views/5t4n-d72c',\n",
       " 'data.cityofnewyork.us/api/views/dpec-ucu7',\n",
       " 'data.cdc.gov/api/views/e8kx-wbww',\n",
       " 'data.austintexas.gov/api/views/spbg-9v94',\n",
       " 'data.cdc.gov/api/views/3h58-x6cd',\n",
       " 'data.sfgov.org/api/views/58un-vqfs',\n",
       " 'data.kingcounty.gov/api/views/yaai-7frk',\n",
       " 'data.ny.gov/api/views/dg63-4siq',\n",
       " 'data.seattle.gov/api/views/3k2p-39jp',\n",
       " 'data.mo.gov/api/views/wp2d-vk85',\n",
       " 'data.medicare.gov/api/views/77hc-ibv8',\n",
       " 'data.baltimorecity.gov/api/views/aivj-4x23',\n",
       " 'data.ny.gov/api/views/6amx-2pbv',\n",
       " 'data.cityofnewyork.us/api/views/f9bf-2cp4',\n",
       " 'data.wa.gov/api/views/6ffb-b8kq']"
      ]
     },
     "execution_count": 85,
     "metadata": {},
     "output_type": "execute_result"
    }
   ],
   "source": [
    "list(urlsToArr.keys())"
   ]
  },
  {
   "cell_type": "code",
   "execution_count": 80,
   "metadata": {},
   "outputs": [],
   "source": [
    "for url in urlsToArr.keys():\n",
    "    tUrl = 'https://' + url\n",
    "    urlsToJson[tUrl] = urllib.request.urlopen(tUrl).read()"
   ]
  },
  {
   "cell_type": "code",
   "execution_count": 81,
   "metadata": {},
   "outputs": [],
   "source": [
    "cn = 0.0\n",
    "for k in urlsToJson.keys():\n",
    "    for s in urlsToArr.keys():\n",
    "        if k[8:] == s:\n",
    "            for arr in urlsToArr.get(s):\n",
    "                if arr.find('.') > 0 and 'count' in arr:\n",
    "#                     print k , arr\n",
    "                    t = getAssocVal(arr.split('.'),json.loads(urlsToJson.get(k)))\n",
    "#                     print(t)          \n",
    "                    cn += t"
   ]
  },
  {
   "cell_type": "code",
   "execution_count": 82,
   "metadata": {},
   "outputs": [
    {
     "data": {
      "text/plain": [
       "535.0"
      ]
     },
     "execution_count": 82,
     "metadata": {},
     "output_type": "execute_result"
    }
   ],
   "source": [
    "cn"
   ]
  },
  {
   "cell_type": "code",
   "execution_count": 83,
   "metadata": {},
   "outputs": [],
   "source": [
    "f = open(\"results.csv\",\"w\")\n",
    "f.write(\"Results\\n\")\n",
    "f.write(str(cn))\n",
    "f.close()"
   ]
  },
  {
   "cell_type": "code",
   "execution_count": null,
   "metadata": {
    "collapsed": true
   },
   "outputs": [],
   "source": []
  }
 ],
 "metadata": {
  "kernelspec": {
   "display_name": "Python 3",
   "language": "python",
   "name": "python3"
  },
  "language_info": {
   "codemirror_mode": {
    "name": "ipython",
    "version": 3
   },
   "file_extension": ".py",
   "mimetype": "text/x-python",
   "name": "python",
   "nbconvert_exporter": "python",
   "pygments_lexer": "ipython3",
   "version": "3.6.3"
  }
 },
 "nbformat": 4,
 "nbformat_minor": 2
}
